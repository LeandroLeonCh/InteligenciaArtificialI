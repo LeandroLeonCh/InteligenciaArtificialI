{
 "cells": [
  {
   "cell_type": "markdown",
   "metadata": {},
   "source": [
    "# SE para una Agencia de viajes\n",
    "\n",
    "El SE para una agencia de viajes podría ser desarrollado con un SE BASADO EN CASOS debido a que este SE realiza los procesos en base a experiencias anterirores.\n",
    "\n",
    "Para la agencia de viajes se podría tomar como experiencia\n",
    "- Ventas de paquetes de viajes anteriores, por ejemplo un paquete que consta de rutas montañosas escalamiento y cammping ha sido adquirida por personas que al instante de realizar la búsqueda de sus paquetes llenan un formulario con sus gustos y esto es guardado para posteriores clientes y compras.\n",
    "\n",
    "También se podría tomar como experiencia para el SE \n",
    "- El presupuesto que las personas indican al iniciar su compra y que espera del paquete.\n",
    "- La distancia o las horas de viaje que se emplean en los viajes sería otro factor que se tome como referencia para realizar recomendaciones a los clientes y viajeros que decidad viajar.\n",
    "- Pero una de las más factibles podría ser los lugares (restaurantes, hoteles, parques nacionales, etc) y recomendaciones de los mismos. Y se conjugaría con los perfiles de las personas que los recomiendan así se recomendarían a personas que tengan pefiles similares.\n",
    "\n",
    "En conclusión se diría que para una agencia de viajes no sería tan escencial un sistema experto ya que las personas siempre compran paquetes ya establecidos por las agencias y hacer rutas exclusivas serían muy costosas para la agencia y para los clientes.\n",
    "\n",
    "\n"
   ]
  },
  {
   "cell_type": "markdown",
   "metadata": {},
   "source": [
    "# SE que ayude ante la emergencia sanitaria del COVID19\n",
    "\n",
    "El SE BASADO EN REDES BAYESIANAS sería la más efectiva para desarrollar este sistema.\n",
    "\n",
    "debido a que este SE a sido el más comúnmente usado en el área de la medicina, tomando en cuenta varios factores como son los síntomas, la población de un determinado lugar geográfico, la concurrencia de las personas y los establecimientos concurridos ayudarían a estimar el nivel de propagación del virus o la rápidez del contagio.\n",
    "\n",
    "DETECTAR EL VIRUS\n",
    "Síntomas: \n",
    "- Se pondría en concideración la edad de la persona ya que es sabido que a personas de ciertas edades afecta de manera más directa este .\n",
    "- Fiebre, medir la temperatura de una persona y esta sobrepasa los noveles normales de una fiebre normal o si la persona en cuestión la padece varios días sería un indicio de que padece el virus.\n",
    "- Insuficiencia respiratoria, detectar los niveles de frecuencia de problemas al respirar de una persona y descartar si es por otras enfermedades en las que estw síntoma es frecuente.\n",
    "\n",
    "PRONOSTICAR LA PROPAGACIÓN\n",
    "\n",
    "- Calculando la población de una ciudad se puede dar el estimado del porcentaje de cuantos serán afectados por el virus.\n",
    "- Lugares concurridos dependiendo de cuantos lugares concurridos conocidos dispone la ciudad y el censo de la pobación se pude decir que en estos lugares podrían ser lugares potenciales para la propagación del virus.\n",
    "\n",
    "Conclusiones.\n",
    "No solo se podría usar los SE basado en redes se podría usar ya que el SE basado en reglas también sería muy conveniente, en cuanto a usarlos en función de lo síntomas si sería efectivo usar el SE basado en redes. \n"
   ]
  }
 ],
 "metadata": {
  "kernelspec": {
   "display_name": "Python 3",
   "language": "python",
   "name": "python3"
  },
  "language_info": {
   "codemirror_mode": {
    "name": "ipython",
    "version": 3
   },
   "file_extension": ".py",
   "mimetype": "text/x-python",
   "name": "python",
   "nbconvert_exporter": "python",
   "pygments_lexer": "ipython3",
   "version": "3.7.6"
  }
 },
 "nbformat": 4,
 "nbformat_minor": 4
}
