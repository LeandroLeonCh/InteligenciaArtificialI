{
 "cells": [
  {
   "cell_type": "code",
   "execution_count": 37,
   "metadata": {},
   "outputs": [
    {
     "name": "stdout",
     "output_type": "stream",
     "text": [
      "0\n",
      "1\n",
      "2\n"
     ]
    },
    {
     "ename": "TypeError",
     "evalue": "add_edge() takes 3 positional arguments but 4 were given",
     "output_type": "error",
     "traceback": [
      "\u001b[1;31m---------------------------------------------------------------------------\u001b[0m",
      "\u001b[1;31mTypeError\u001b[0m                                 Traceback (most recent call last)",
      "\u001b[1;32m<ipython-input-37-b06e1787095f>\u001b[0m in \u001b[0;36m<module>\u001b[1;34m\u001b[0m\n\u001b[0;32m     13\u001b[0m \u001b[1;33m\u001b[0m\u001b[0m\n\u001b[0;32m     14\u001b[0m \u001b[0mG\u001b[0m\u001b[1;33m.\u001b[0m\u001b[0madd_edge\u001b[0m\u001b[1;33m(\u001b[0m\u001b[1;34m\"Azuay\"\u001b[0m\u001b[1;33m,\u001b[0m\u001b[1;34m\"Ecuador\"\u001b[0m\u001b[1;33m)\u001b[0m\u001b[1;33m\u001b[0m\u001b[1;33m\u001b[0m\u001b[0m\n\u001b[1;32m---> 15\u001b[1;33m \u001b[0mG\u001b[0m\u001b[1;33m.\u001b[0m\u001b[0madd_edge\u001b[0m\u001b[1;33m(\u001b[0m\u001b[1;34m\"Azuay\"\u001b[0m\u001b[1;33m,\u001b[0m\u001b[1;34m\"Quito\"\u001b[0m\u001b[1;33m,\u001b[0m\u001b[1;34m\"guaya\"\u001b[0m\u001b[1;33m)\u001b[0m\u001b[1;33m\u001b[0m\u001b[1;33m\u001b[0m\u001b[0m\n\u001b[0m\u001b[0;32m     16\u001b[0m \u001b[1;33m\u001b[0m\u001b[0m\n\u001b[0;32m     17\u001b[0m \u001b[1;31m#v1 = (\"Cuenca\",\"Azuay\")\u001b[0m\u001b[1;33m\u001b[0m\u001b[1;33m\u001b[0m\u001b[1;33m\u001b[0m\u001b[0m\n",
      "\u001b[1;31mTypeError\u001b[0m: add_edge() takes 3 positional arguments but 4 were given"
     ]
    }
   ],
   "source": [
    "import networkx as nx\n",
    "import matplotlib.pyplot as plt\n",
    "\n",
    "for n in range(3):\n",
    "    print (n)\n",
    "\n",
    "G=nx.Graph()\n",
    "G.add_node(\"Ecuador\")\n",
    "\n",
    "#G.add_nodes_from([\"Azuay\",\"Pichincha\"])\n",
    "\n",
    "#G.add_nodes_from([\"Cuenca\",\"Quito\"])\n",
    "G.add_node()\n",
    "G.add_edge(\"Azuay\",\"Ecuador\")\n",
    "G.add_edge(\"Azuay\",\"Quito\",\n",
    "\n",
    "#v1 = (\"Cuenca\",\"Azuay\")\n",
    "#v2 = (\"Quito\", \"Pichincha\")\n",
    "\n",
    "#G.add_edge(*v1)\n",
    "#G.add_edge(*v2)\n",
    "\n",
    "nx.draw(G)\n",
    "plt.text(0,0,'Azuay')\n",
    "plt.text(0.5,0.5,'Ecuador')\n",
    "#plt.text()\n",
    "\n",
    "\n",
    "\n",
    "\n",
    "print (\"Nodos: \", G.number_of_nodes(), G.nodes())\n",
    "print (\"Enlaces: \", G.number_of_edges(),G.edges())\n"
   ]
  },
  {
   "cell_type": "code",
   "execution_count": 2,
   "metadata": {},
   "outputs": [
    {
     "data": {
      "image/png": "[encoded data removed]",
      "text/plain": [
       "<Figure size 432x288 with 1 Axes>"
      ]
     },
     "metadata": {},
     "output_type": "display_data"
    },
    {
     "name": "stdout",
     "output_type": "stream",
     "text": [
      "Nodos:  3 ['Ecuador', 'Azuay', 'Quito']\n",
      "Enlaces:  2 [('Ecuador', 'Azuay'), ('Azuay', 'Quito')]\n"
     ]
    }
   ],
   "source": [
    "def graficar(init_state, result):\n",
    "    import networkx as nx\n",
    "    import matplotlib.pyplot as plt\n",
    "\n",
    "    G=nx.Graph()\n",
    "    nodoInicial = \"Ecuador\"\n",
    "\n",
    "    G.add_node(nodoInicial)\n",
    "    for n in range(3):\n",
    "        G.add_edge(n, nodoInicial)\n",
    "        nodoInicial = n \n",
    "    \n",
    "\n",
    "nx.draw(G)\n",
    "plt.show()\n",
    "\n",
    "print (\"Nodos: \", G.number_of_nodes(), G.nodes())\n",
    "print (\"Enlaces: \", G.number_of_edges(),G.edges())"
   ]
  },
  {
   "cell_type": "code",
   "execution_count": 5,
   "metadata": {},
   "outputs": [],
   "source": [
    "import networkx as nx\n",
    "\n",
    "G.add_node(1)\n",
    "G=nx.Graph()"
   ]
  },
  {
   "cell_type": "code",
   "execution_count": 22,
   "metadata": {},
   "outputs": [
    {
     "data": {
      "image/png": "[encoded data removed]",
      "text/plain": [
       "<Figure size 432x288 with 1 Axes>"
      ]
     },
     "metadata": {},
     "output_type": "display_data"
    }
   ],
   "source": [
    "import networkx as nx\n",
    "import matplotlib.pyplot as plt\n",
    "\n",
    "G=nx.Graph()\n",
    "H=nx.path_graph(10)\n",
    "J=nx.path_graph(3)\n",
    "G.add_nodes_from(H)\n",
    "G.add_node(J)\n",
    "G.add_node(H)\n",
    "nx.draw(G)\n",
    "plt.show(G)\n"
   ]
  },
  {
   "cell_type": "code",
   "execution_count": 17,
   "metadata": {},
   "outputs": [
    {
     "data": {
      "image/png": "[encoded data removed]",
      "text/plain": [
       "<Figure size 432x288 with 1 Axes>"
      ]
     },
     "metadata": {},
     "output_type": "display_data"
    }
   ],
   "source": []
  },
  {
   "cell_type": "code",
   "execution_count": 36,
   "metadata": {},
   "outputs": [
    {
     "ename": "SyntaxError",
     "evalue": "invalid syntax (<ipython-input-36-28e024f5d1d4>, line 3)",
     "output_type": "error",
     "traceback": [
      "\u001b[1;36m  File \u001b[1;32m\"<ipython-input-36-28e024f5d1d4>\"\u001b[1;36m, line \u001b[1;32m3\u001b[0m\n\u001b[1;33m    G.add_edge('Cuenca': {'Riobamba', 'Quito', 'Guayaquil'},weight=0.6)\u001b[0m\n\u001b[1;37m                       ^\u001b[0m\n\u001b[1;31mSyntaxError\u001b[0m\u001b[1;31m:\u001b[0m invalid syntax\n"
     ]
    }
   ],
   "source": [
    "G = nx.Graph()\n",
    "\n",
    "G.add_edge('a', 'b',weight=0.6)\n",
    "G.add_edge('a', 'c', weight=0.2)\n",
    "G.add_edge('c', 'd', weight=0.1)\n",
    "G.add_edge('c', 'e', weight=0.7)\n",
    "G.add_edge('c', 'f', weight=0.9)\n",
    "G.add_edge('a', 'd', weight=0.3)\n",
    "\n",
    "elarge = [(u, v) for (u, v, d) in G.edges(data=True) if d['weight'] > 0.5]\n",
    "esmall = [(u, v) for (u, v, d) in G.edges(data=True) if d['weight'] <= 0.5]\n",
    "\n",
    "pos = nx.spring_layout(G)  # positions for all nodes\n",
    "\n",
    "# nodes\n",
    "nx.draw_networkx_nodes(G, pos, node_size=700)\n",
    "\n",
    "# edges\n",
    "nx.draw_networkx_edges(G, pos, edgelist=elarge,\n",
    "                       width=6)\n",
    "nx.draw_networkx_edges(G, pos, edgelist=esmall,\n",
    "                       width=6, alpha=0.5, edge_color='b', style='dashed')\n",
    "\n",
    "# labels\n",
    "nx.draw_networkx_labels(G, pos, font_size=20, font_family='sans-serif')\n",
    "\n",
    "plt.axis('off')\n",
    "plt.show()"
   ]
  },
  {
   "cell_type": "code",
   "execution_count": 31,
   "metadata": {},
   "outputs": [
    {
     "name": "stdout",
     "output_type": "stream",
     "text": [
      "True\n",
      "Configuration model\n",
      "Degree sequence [5, 3, 3, 3, 3, 2, 2, 2, 1, 1, 1]\n",
      "Degree histogram\n",
      "degree #nodes\n",
      "5 1\n",
      "3 7\n",
      "2 5\n",
      "1 5\n",
      "<class 'list'>\n"
     ]
    },
    {
     "data": {
      "image/png": "[encoded data removed]",
      "text/plain": [
       "<Figure size 432x288 with 1 Axes>"
      ]
     },
     "metadata": {},
     "output_type": "display_data"
    }
   ],
   "source": [
    "import matplotlib.pyplot as plt\n",
    "from networkx import nx\n",
    "\n",
    "z = [5, 3, 3, 3, 3, 2, 2, 2, 1, 1, 1]\n",
    "print(nx.is_graphical(z))\n",
    "\n",
    "print(\"Configuration model\")\n",
    "G = nx.configuration_model(z)  # configuration model\n",
    "degree_sequence = [d for n, d in G.degree()]  # degree sequence\n",
    "print(\"Degree sequence %s\" % degree_sequence)\n",
    "print(\"Degree histogram\")\n",
    "hist = {}\n",
    "for d in degree_sequence:\n",
    "    if d in hist:\n",
    "        hist[d] += 2\n",
    "    else:\n",
    "        hist[d] = 1\n",
    "print(\"degree #nodes\")\n",
    "for d in hist:\n",
    "    print('%d %d' % (d, hist[d]))\n",
    "print(type(z))\n",
    "nx.draw(G)\n",
    "plt.show()\n"
   ]
  },
  {
   "cell_type": "code",
   "execution_count": 33,
   "metadata": {},
   "outputs": [
    {
     "ename": "TypeError",
     "evalue": "'module' object is not callable",
     "output_type": "error",
     "traceback": [
      "\u001b[1;31m---------------------------------------------------------------------------\u001b[0m",
      "\u001b[1;31mTypeError\u001b[0m                                 Traceback (most recent call last)",
      "\u001b[1;32m<ipython-input-33-3f172d544850>\u001b[0m in \u001b[0;36m<module>\u001b[1;34m\u001b[0m\n\u001b[0;32m     15\u001b[0m     }\n\u001b[0;32m     16\u001b[0m \u001b[0mg\u001b[0m \u001b[1;33m=\u001b[0m \u001b[0mnx\u001b[0m\u001b[1;33m.\u001b[0m\u001b[0mDiGraph\u001b[0m\u001b[1;33m(\u001b[0m\u001b[0md\u001b[0m\u001b[1;33m)\u001b[0m\u001b[1;33m\u001b[0m\u001b[1;33m\u001b[0m\u001b[0m\n\u001b[1;32m---> 17\u001b[1;33m \u001b[0mplt\u001b[0m\u001b[1;33m(\u001b[0m\u001b[0mg\u001b[0m\u001b[1;33m)\u001b[0m\u001b[1;33m\u001b[0m\u001b[1;33m\u001b[0m\u001b[0m\n\u001b[0m",
      "\u001b[1;31mTypeError\u001b[0m: 'module' object is not callable"
     ]
    }
   ],
   "source": [
    "import matplotlib.pyplot as plt\n",
    "from networkx import nx\n",
    "\n",
    "d = {\n",
    "        'Cuenca': {'Riobamba', 'Quito', 'Guayaquil'},\n",
    "        'Latacunga': {'Ambato', 'Quito'},\n",
    "        'Esmeraldas': {'Manta'},\n",
    "        'Manta': {'Guayaquil'},\n",
    "        'Quito': {'Riobamba', 'Latacunga', 'Cuenca', 'Guayaquil', 'Puyo'},\n",
    "        'Riobamba': {'Cuenca', 'Quito'},\n",
    "        'Ambato': {'Latacunga', 'Puyo', 'Guayaquil'},\n",
    "        'Puyo': {'Ambato', 'Quito'},\n",
    "        'Machala': {'Guayaquil'},\n",
    "        'Guayaquil': {'Machala', 'Ambato', 'Quito', 'Cuenca', 'Manta'}\n",
    "    }\n",
    "g = nx.DiGraph(d)\n",
    "plt(g)"
   ]
  },
  {
   "cell_type": "code",
   "execution_count": 1,
   "metadata": {},
   "outputs": [
    {
     "data": {
      "text/plain": [
       "<matplotlib.axes._subplots.AxesSubplot at 0x261f4b3f888>"
      ]
     },
     "execution_count": 1,
     "metadata": {},
     "output_type": "execute_result"
    },
    {
     "data": {
      "image/png": "[encoded data removed]",
      "text/plain": [
       "<Figure size 432x288 with 1 Axes>"
      ]
     },
     "metadata": {
      "needs_background": "light"
     },
     "output_type": "display_data"
    }
   ],
   "source": [
    "import matplotlib.pyplot as plt\n",
    "from networkx import nx\n",
    "G = nx.petersen_graph()\n",
    "plt.subplot(121)"
   ]
  },
  {
   "cell_type": "code",
   "execution_count": null,
   "metadata": {},
   "outputs": [],
   "source": []
  }
 ],
 "metadata": {
  "kernelspec": {
   "display_name": "Python 3",
   "language": "python",
   "name": "python3"
  },
  "language_info": {
   "codemirror_mode": {
    "name": "ipython",
    "version": 3
   },
   "file_extension": ".py",
   "mimetype": "text/x-python",
   "name": "python",
   "nbconvert_exporter": "python",
   "pygments_lexer": "ipython3",
   "version": "3.7.6"
  }
 },
 "nbformat": 4,
 "nbformat_minor": 4
}
