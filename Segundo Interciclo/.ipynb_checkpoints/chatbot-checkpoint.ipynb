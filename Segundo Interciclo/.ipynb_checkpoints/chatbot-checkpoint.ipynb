{
 "cells": [
  {
   "cell_type": "code",
   "execution_count": 1,
   "metadata": {},
   "outputs": [
    {
     "name": "stdout",
     "output_type": "stream",
     "text": [
      "pygame 1.9.6\n",
      "Hello from the pygame community. https://www.pygame.org/contribute.html\n"
     ]
    }
   ],
   "source": [
    "import json\n",
    "from ibm_watson import LanguageTranslatorV3\n",
    "from ibm_watson import AssistantV2\n",
    "from ibm_watson import TextToSpeechV1\n",
    "from ibm_cloud_sdk_core.authenticators import IAMAuthenticator\n",
    "from ibm_watson.websocket import SynthesizeCallback\n",
    "from os.path import join, dirname\n",
    "import pygame\n",
    "from neo4j import GraphDatabase\n",
    "from pandas import DataFrame"
   ]
  },
  {
   "cell_type": "markdown",
   "metadata": {},
   "source": [
    "# Autenticación y credenciales de los servicios en IBM Watson"
   ]
  },
  {
   "cell_type": "code",
   "execution_count": 2,
   "metadata": {},
   "outputs": [],
   "source": [
    "#ATENTICACIÓN TRANSLATE WATSON\n",
    "authenticator = IAMAuthenticator('ex7fG5d2ob2SpeqnBatbjrloOjiD3fruLReO-zipIRG8')\n",
    "language_translator = LanguageTranslatorV3(\n",
    "    version='2018-05-01',\n",
    "    authenticator=authenticator)\n",
    "language_translator.set_service_url('https://api.us-south.language-translator.watson.cloud.ibm.com/instances/3f020a13-ae1f-4d67-87f2-808add2359f5')\n",
    "\n",
    "#ATENTICACIÓN TEXT_TO_SPEECH WATSON\n",
    "authenticator = IAMAuthenticator('y6g3Klma5riCxg7RWDp2UUsT9HCW07iaT2qruSdOuTwg')\n",
    "text_to_speech = TextToSpeechV1( authenticator=authenticator)\n",
    "text_to_speech.set_service_url('https://api.us-south.text-to-speech.watson.cloud.ibm.com/instances/6ddfab7b-3699-484e-801b-b2cbcf8cab1c')\n",
    "\n",
    "\n",
    "#ATENTICACIÓN ASSISTANT WATSON\n",
    "authenticator = IAMAuthenticator('Vdhmwp71ttlef0bM0JCAVGM1-jqVEt-sQlHqrWFFo_HO')\n",
    "assistant = AssistantV2(\n",
    "    version = '2020-04-01',\n",
    "    authenticator = authenticator\n",
    ")\n",
    "assistant.set_service_url('https://api.us-south.assistant.watson.cloud.ibm.com/instances/d80a5eb7-c2a1-43d2-84c0-9891733fc13d')\n",
    "assistant.set_disable_ssl_verification(False)\n",
    "\n",
    "session = assistant.create_session('5d54ad00-095a-4d6f-b630-5bb1bb72fea1').get_result()\n",
    "\n",
    "voices = text_to_speech.list_voices().get_result()\n",
    "#print(json.dumps(voices, indent=2))\n",
    "\n",
    "\n",
    "#AUTENTICACION NEO4J\n",
    "uri = \"bolt://localhost:7687\"\n",
    "# Connect to the neo4j database server\n",
    "\n",
    "graphDB_Driver  = GraphDatabase.driver(uri)"
   ]
  },
  {
   "cell_type": "markdown",
   "metadata": {},
   "source": [
    "## CREATE"
   ]
  },
  {
   "cell_type": "code",
   "execution_count": 39,
   "metadata": {},
   "outputs": [
    {
     "name": "stdout",
     "output_type": "stream",
     "text": [
      "<Record personas=1>\n"
     ]
    }
   ],
   "source": [
    "cqlCreate = \"\"\"Create (h:Persona {gender:'Hombre',age:25 }),\n",
    "    (m:Persona {gender:'Mujer', age:22}), \n",
    "    (q:Motivation {description:'Mejorar la educacion'}),\n",
    "    (n:Motivation {description:'Vocacion de enseniar'}),\n",
    "    (h)-[:RELATION {value: 3}]->(q),\n",
    "    (h)-[:RELATION {value: 1}]->(n),\n",
    "    (m)-[:RELATION {value: 5}]->(n)\n",
    "    RETURN COUNT(h) AS personas\"\"\"\n",
    "\n",
    "with graphDB_Driver.session() as graphDB_Session:\n",
    "    \n",
    "    # LISTA LOS NODOS CREADOS\n",
    "    nodes = graphDB_Session.run(cqlCreate)\n",
    "    \n",
    "    record = nodes.single()\n",
    "    print(record)\n",
    "    "
   ]
  },
  {
   "cell_type": "markdown",
   "metadata": {},
   "source": [
    "## UPDATE"
   ]
  },
  {
   "cell_type": "code",
   "execution_count": 10,
   "metadata": {},
   "outputs": [
    {
     "name": "stdout",
     "output_type": "stream",
     "text": [
      "['m', 'q2', 'r']\n"
     ]
    }
   ],
   "source": [
    "\n",
    "def merge_mujer(desc, value):\n",
    "    cql_update_query = \"\"\"MERGE  (m:Persona {gender:'Mujer', age:22})\n",
    "                    MERGE (q2:Motivation{description:$desc})\n",
    "                    MERGE (m)-[r:RELATION]->(q2)\n",
    "                    SET r += {value:$value}\n",
    "                    RETURN *\"\"\"\n",
    "\n",
    "    with graphDB_Driver.session() as graphDB_Session:\n",
    "\n",
    "        # LISTA LOS NODOS CREADOS\n",
    "        nodes = graphDB_Session.run(cql_update_query, params{desc=desc, value=value} )\n",
    "        result = nodes.keys()\n",
    "        print(result)\n",
    "\n",
    "def merge_hombre(desc, value):\n",
    "    cql_update_query = \"\"\"MERGE  (h:Persona {gender:'Hombre', age:25})\n",
    "                    MERGE (q3:Motivation{description:$desc})\n",
    "                    MERGE (h)-[r:RELATION]->(q3)\n",
    "                    SET r += {value:$value}\n",
    "                    RETURN *\"\"\"\n",
    "\n",
    "    with graphDB_Driver.session() as graphDB_Session:\n",
    "\n",
    "        # LISTA LOS NODOS CREADOS\n",
    "        nodes = graphDB_Session.run(cql_update_query, params{desc=desc, value=value})\n",
    "        result = nodes.keys()\n",
    "        print(result)"
   ]
  },
  {
   "cell_type": "markdown",
   "metadata": {},
   "source": [
    "## READ"
   ]
  },
  {
   "cell_type": "code",
   "execution_count": 9,
   "metadata": {},
   "outputs": [
    {
     "name": "stdout",
     "output_type": "stream",
     "text": [
      "Ingrese su genero:Hombre\n",
      "Las motivaciones de seguir esta carrera: \n"
     ]
    },
    {
     "ename": "TypeError",
     "evalue": "__init__() got an unexpected keyword argument 'replace'",
     "output_type": "error",
     "traceback": [
      "\u001b[0;31m---------------------------------------------------------------------------\u001b[0m",
      "\u001b[0;31mTypeError\u001b[0m                                 Traceback (most recent call last)",
      "\u001b[0;32m<ipython-input-9-4735a28afc00>\u001b[0m in \u001b[0;36m<module>\u001b[0;34m\u001b[0m\n\u001b[1;32m     36\u001b[0m \u001b[0;34m\u001b[0m\u001b[0m\n\u001b[1;32m     37\u001b[0m \u001b[0;34m\u001b[0m\u001b[0m\n\u001b[0;32m---> 38\u001b[0;31m \u001b[0mlist_conditional\u001b[0m\u001b[0;34m(\u001b[0m\u001b[0;34m)\u001b[0m\u001b[0;34m\u001b[0m\u001b[0;34m\u001b[0m\u001b[0m\n\u001b[0m\u001b[1;32m     39\u001b[0m \u001b[0;34m\u001b[0m\u001b[0m\n",
      "\u001b[0;32m<ipython-input-9-4735a28afc00>\u001b[0m in \u001b[0;36mlist_conditional\u001b[0;34m()\u001b[0m\n\u001b[1;32m      8\u001b[0m         \u001b[0mnodes\u001b[0m \u001b[0;34m=\u001b[0m \u001b[0mgraphDB_Session\u001b[0m\u001b[0;34m.\u001b[0m\u001b[0mrun\u001b[0m\u001b[0;34m(\u001b[0m\u001b[0mcqlEdgeQuery\u001b[0m\u001b[0;34m,\u001b[0m \u001b[0mgender\u001b[0m\u001b[0;34m=\u001b[0m\u001b[0mgender\u001b[0m\u001b[0;34m)\u001b[0m\u001b[0;34m\u001b[0m\u001b[0;34m\u001b[0m\u001b[0m\n\u001b[1;32m      9\u001b[0m         \u001b[0mprint\u001b[0m\u001b[0;34m(\u001b[0m\u001b[0;34m\"Las motivaciones de seguir esta carrera: \"\u001b[0m\u001b[0;34m)\u001b[0m\u001b[0;34m\u001b[0m\u001b[0;34m\u001b[0m\u001b[0m\n\u001b[0;32m---> 10\u001b[0;31m         \u001b[0mdtf_data\u001b[0m \u001b[0;34m=\u001b[0m \u001b[0mDataFrame\u001b[0m\u001b[0;34m(\u001b[0m\u001b[0;34m[\u001b[0m\u001b[0mdict\u001b[0m\u001b[0;34m(\u001b[0m\u001b[0m_\u001b[0m\u001b[0;34m)\u001b[0m \u001b[0;32mfor\u001b[0m \u001b[0m_\u001b[0m \u001b[0;32min\u001b[0m \u001b[0mnodes\u001b[0m\u001b[0;34m]\u001b[0m\u001b[0;34m,\u001b[0m \u001b[0mreplace\u001b[0m\u001b[0;34m=\u001b[0m\u001b[0;32mTrue\u001b[0m\u001b[0;34m)\u001b[0m\u001b[0;34m\u001b[0m\u001b[0;34m\u001b[0m\u001b[0m\n\u001b[0m\u001b[1;32m     11\u001b[0m         \u001b[0mdtf_data\u001b[0m\u001b[0;34m.\u001b[0m\u001b[0msample\u001b[0m\u001b[0;34m(\u001b[0m\u001b[0;36m10\u001b[0m\u001b[0;34m)\u001b[0m\u001b[0;34m\u001b[0m\u001b[0;34m\u001b[0m\u001b[0m\n\u001b[1;32m     12\u001b[0m         \u001b[0;32mfor\u001b[0m \u001b[0mnode\u001b[0m \u001b[0;32min\u001b[0m \u001b[0mnodes\u001b[0m\u001b[0;34m:\u001b[0m\u001b[0;34m\u001b[0m\u001b[0;34m\u001b[0m\u001b[0m\n",
      "\u001b[0;31mTypeError\u001b[0m: __init__() got an unexpected keyword argument 'replace'"
     ]
    }
   ],
   "source": [
    "# CQL to query all the universities present in the graph\n",
    "def list_conditional():\n",
    "    gender=input('Ingrese su genero:')\n",
    "    cqlEdgeQuery = \"match (:Persona {gender: $gender})-->(m:Motivation) return (m.description)\"\n",
    "\n",
    "    with graphDB_Driver.session() as graphDB_Session:\n",
    "\n",
    "        nodes = graphDB_Session.run(cqlEdgeQuery, gender=gender)\n",
    "        print(\"Las motivaciones de seguir esta carrera: \")\n",
    "        #dtf_data = DataFrame([dict(_) for _ in nodes], replace=True)\n",
    "        #dtf_data.sample(10)\n",
    "        for node in nodes:\n",
    "            \n",
    "            print(node)\n",
    "    \n",
    "    \n",
    "    \n",
    "def lis_all():\n",
    "    \n",
    "    cqlNodeQuery = \"MATCH (x) RETURN x\"\n",
    "\n",
    "    # CQL to query the distances from Yale to some of the other Ivy League universitie\n",
    "\n",
    "    with graphDB_Driver.session() as graphDB_Session:\n",
    "\n",
    "        # LISTA LOS NODOS CREADOS\n",
    "        nodes = graphDB_Session.run(cqlNodeQuery)\n",
    "\n",
    "        print(\"Nodos creados:\")\n",
    "\n",
    "        for node in nodes:\n",
    "\n",
    "            print(node)\n",
    "\n",
    "        #LISTAR LAS RELACIONES\n",
    "        \n",
    "        \n",
    "list_conditional()\n",
    "    "
   ]
  },
  {
   "cell_type": "markdown",
   "metadata": {},
   "source": [
    "## DELETE"
   ]
  },
  {
   "cell_type": "code",
   "execution_count": 38,
   "metadata": {},
   "outputs": [
    {
     "name": "stdout",
     "output_type": "stream",
     "text": [
      "<neo4j.work.result.Result object at 0x7f3c1d9a4910>\n"
     ]
    }
   ],
   "source": [
    "comand_delete = 'MATCH (n) OPTIONAL MATCH (n)-[r]-() DELETE n,r RETURN count(n) as numero'\n",
    "\n",
    "with graphDB_Driver.session() as graphDB_Session:\n",
    "    \n",
    "    result = graphDB_Session.run(comand_delete)\n",
    "    print (result)\n"
   ]
  },
  {
   "cell_type": "markdown",
   "metadata": {},
   "source": [
    "### Identifica el idioma, y traduce de ser el caso"
   ]
  },
  {
   "cell_type": "code",
   "execution_count": 3,
   "metadata": {
    "scrolled": true
   },
   "outputs": [
    {
     "name": "stdout",
     "output_type": "stream",
     "text": [
      "Escribe algo: \n",
      "Write something: \n",
      "hi good morning\n",
      "\" 'Welcome to the U.P.S. Basic Education career'\n"
     ]
    },
    {
     "ename": "KeyboardInterrupt",
     "evalue": "",
     "output_type": "error",
     "traceback": [
      "\u001b[0;31m---------------------------------------------------------------------------\u001b[0m",
      "\u001b[0;31mKeyboardInterrupt\u001b[0m                         Traceback (most recent call last)",
      "\u001b[0;32m~/anaconda3/lib/python3.7/site-packages/ipykernel/kernelbase.py\u001b[0m in \u001b[0;36m_input_request\u001b[0;34m(self, prompt, ident, parent, password)\u001b[0m\n\u001b[1;32m    883\u001b[0m             \u001b[0;32mtry\u001b[0m\u001b[0;34m:\u001b[0m\u001b[0;34m\u001b[0m\u001b[0;34m\u001b[0m\u001b[0m\n\u001b[0;32m--> 884\u001b[0;31m                 \u001b[0mident\u001b[0m\u001b[0;34m,\u001b[0m \u001b[0mreply\u001b[0m \u001b[0;34m=\u001b[0m \u001b[0mself\u001b[0m\u001b[0;34m.\u001b[0m\u001b[0msession\u001b[0m\u001b[0;34m.\u001b[0m\u001b[0mrecv\u001b[0m\u001b[0;34m(\u001b[0m\u001b[0mself\u001b[0m\u001b[0;34m.\u001b[0m\u001b[0mstdin_socket\u001b[0m\u001b[0;34m,\u001b[0m \u001b[0;36m0\u001b[0m\u001b[0;34m)\u001b[0m\u001b[0;34m\u001b[0m\u001b[0;34m\u001b[0m\u001b[0m\n\u001b[0m\u001b[1;32m    885\u001b[0m             \u001b[0;32mexcept\u001b[0m \u001b[0mException\u001b[0m\u001b[0;34m:\u001b[0m\u001b[0;34m\u001b[0m\u001b[0;34m\u001b[0m\u001b[0m\n",
      "\u001b[0;32m~/anaconda3/lib/python3.7/site-packages/jupyter_client/session.py\u001b[0m in \u001b[0;36mrecv\u001b[0;34m(self, socket, mode, content, copy)\u001b[0m\n\u001b[1;32m    802\u001b[0m         \u001b[0;32mtry\u001b[0m\u001b[0;34m:\u001b[0m\u001b[0;34m\u001b[0m\u001b[0;34m\u001b[0m\u001b[0m\n\u001b[0;32m--> 803\u001b[0;31m             \u001b[0mmsg_list\u001b[0m \u001b[0;34m=\u001b[0m \u001b[0msocket\u001b[0m\u001b[0;34m.\u001b[0m\u001b[0mrecv_multipart\u001b[0m\u001b[0;34m(\u001b[0m\u001b[0mmode\u001b[0m\u001b[0;34m,\u001b[0m \u001b[0mcopy\u001b[0m\u001b[0;34m=\u001b[0m\u001b[0mcopy\u001b[0m\u001b[0;34m)\u001b[0m\u001b[0;34m\u001b[0m\u001b[0;34m\u001b[0m\u001b[0m\n\u001b[0m\u001b[1;32m    804\u001b[0m         \u001b[0;32mexcept\u001b[0m \u001b[0mzmq\u001b[0m\u001b[0;34m.\u001b[0m\u001b[0mZMQError\u001b[0m \u001b[0;32mas\u001b[0m \u001b[0me\u001b[0m\u001b[0;34m:\u001b[0m\u001b[0;34m\u001b[0m\u001b[0;34m\u001b[0m\u001b[0m\n",
      "\u001b[0;32m~/anaconda3/lib/python3.7/site-packages/zmq/sugar/socket.py\u001b[0m in \u001b[0;36mrecv_multipart\u001b[0;34m(self, flags, copy, track)\u001b[0m\n\u001b[1;32m    474\u001b[0m         \"\"\"\n\u001b[0;32m--> 475\u001b[0;31m         \u001b[0mparts\u001b[0m \u001b[0;34m=\u001b[0m \u001b[0;34m[\u001b[0m\u001b[0mself\u001b[0m\u001b[0;34m.\u001b[0m\u001b[0mrecv\u001b[0m\u001b[0;34m(\u001b[0m\u001b[0mflags\u001b[0m\u001b[0;34m,\u001b[0m \u001b[0mcopy\u001b[0m\u001b[0;34m=\u001b[0m\u001b[0mcopy\u001b[0m\u001b[0;34m,\u001b[0m \u001b[0mtrack\u001b[0m\u001b[0;34m=\u001b[0m\u001b[0mtrack\u001b[0m\u001b[0;34m)\u001b[0m\u001b[0;34m]\u001b[0m\u001b[0;34m\u001b[0m\u001b[0;34m\u001b[0m\u001b[0m\n\u001b[0m\u001b[1;32m    476\u001b[0m         \u001b[0;31m# have first part already, only loop while more to receive\u001b[0m\u001b[0;34m\u001b[0m\u001b[0;34m\u001b[0m\u001b[0;34m\u001b[0m\u001b[0m\n",
      "\u001b[0;32mzmq/backend/cython/socket.pyx\u001b[0m in \u001b[0;36mzmq.backend.cython.socket.Socket.recv\u001b[0;34m()\u001b[0m\n",
      "\u001b[0;32mzmq/backend/cython/socket.pyx\u001b[0m in \u001b[0;36mzmq.backend.cython.socket.Socket.recv\u001b[0;34m()\u001b[0m\n",
      "\u001b[0;32mzmq/backend/cython/socket.pyx\u001b[0m in \u001b[0;36mzmq.backend.cython.socket._recv_copy\u001b[0;34m()\u001b[0m\n",
      "\u001b[0;32m~/anaconda3/lib/python3.7/site-packages/zmq/backend/cython/checkrc.pxd\u001b[0m in \u001b[0;36mzmq.backend.cython.checkrc._check_rc\u001b[0;34m()\u001b[0m\n",
      "\u001b[0;31mKeyboardInterrupt\u001b[0m: ",
      "\nDuring handling of the above exception, another exception occurred:\n",
      "\u001b[0;31mKeyboardInterrupt\u001b[0m                         Traceback (most recent call last)",
      "\u001b[0;32m<ipython-input-3-81ccc3c50203>\u001b[0m in \u001b[0;36m<module>\u001b[0;34m\u001b[0m\n\u001b[1;32m    140\u001b[0m             \u001b[0mtext_speech_es\u001b[0m\u001b[0;34m(\u001b[0m\u001b[0mtexto\u001b[0m\u001b[0;34m)\u001b[0m\u001b[0;34m\u001b[0m\u001b[0;34m\u001b[0m\u001b[0m\n\u001b[1;32m    141\u001b[0m \u001b[0;31m#play_audio()\u001b[0m\u001b[0;34m\u001b[0m\u001b[0;34m\u001b[0m\u001b[0;34m\u001b[0m\u001b[0m\n\u001b[0;32m--> 142\u001b[0;31m \u001b[0mmain\u001b[0m\u001b[0;34m(\u001b[0m\u001b[0;34m)\u001b[0m\u001b[0;34m\u001b[0m\u001b[0;34m\u001b[0m\u001b[0m\n\u001b[0m",
      "\u001b[0;32m<ipython-input-3-81ccc3c50203>\u001b[0m in \u001b[0;36mmain\u001b[0;34m()\u001b[0m\n\u001b[1;32m    107\u001b[0m    \u001b[0;31m# print(condicion+\" main\")\u001b[0m\u001b[0;34m\u001b[0m\u001b[0;34m\u001b[0m\u001b[0;34m\u001b[0m\u001b[0m\n\u001b[1;32m    108\u001b[0m     \u001b[0;32mwhile\u001b[0m \u001b[0mstr\u001b[0m\u001b[0;34m(\u001b[0m\u001b[0mcondicion\u001b[0m\u001b[0;34m)\u001b[0m \u001b[0;34m!=\u001b[0m \u001b[0;34m'despedida'\u001b[0m\u001b[0;34m:\u001b[0m\u001b[0;34m\u001b[0m\u001b[0;34m\u001b[0m\u001b[0m\n\u001b[0;32m--> 109\u001b[0;31m         \u001b[0mtexto\u001b[0m\u001b[0;34m=\u001b[0m\u001b[0minput\u001b[0m\u001b[0;34m(\u001b[0m\u001b[0;34m)\u001b[0m\u001b[0;34m\u001b[0m\u001b[0;34m\u001b[0m\u001b[0m\n\u001b[0m\u001b[1;32m    110\u001b[0m         language = language_translator.identify(\n\u001b[1;32m    111\u001b[0m             texto).get_result()\n",
      "\u001b[0;32m~/anaconda3/lib/python3.7/site-packages/ipykernel/kernelbase.py\u001b[0m in \u001b[0;36mraw_input\u001b[0;34m(self, prompt)\u001b[0m\n\u001b[1;32m    857\u001b[0m             \u001b[0mself\u001b[0m\u001b[0;34m.\u001b[0m\u001b[0m_parent_ident\u001b[0m\u001b[0;34m,\u001b[0m\u001b[0;34m\u001b[0m\u001b[0;34m\u001b[0m\u001b[0m\n\u001b[1;32m    858\u001b[0m             \u001b[0mself\u001b[0m\u001b[0;34m.\u001b[0m\u001b[0m_parent_header\u001b[0m\u001b[0;34m,\u001b[0m\u001b[0;34m\u001b[0m\u001b[0;34m\u001b[0m\u001b[0m\n\u001b[0;32m--> 859\u001b[0;31m             \u001b[0mpassword\u001b[0m\u001b[0;34m=\u001b[0m\u001b[0;32mFalse\u001b[0m\u001b[0;34m,\u001b[0m\u001b[0;34m\u001b[0m\u001b[0;34m\u001b[0m\u001b[0m\n\u001b[0m\u001b[1;32m    860\u001b[0m         )\n\u001b[1;32m    861\u001b[0m \u001b[0;34m\u001b[0m\u001b[0m\n",
      "\u001b[0;32m~/anaconda3/lib/python3.7/site-packages/ipykernel/kernelbase.py\u001b[0m in \u001b[0;36m_input_request\u001b[0;34m(self, prompt, ident, parent, password)\u001b[0m\n\u001b[1;32m    887\u001b[0m             \u001b[0;32mexcept\u001b[0m \u001b[0mKeyboardInterrupt\u001b[0m\u001b[0;34m:\u001b[0m\u001b[0;34m\u001b[0m\u001b[0;34m\u001b[0m\u001b[0m\n\u001b[1;32m    888\u001b[0m                 \u001b[0;31m# re-raise KeyboardInterrupt, to truncate traceback\u001b[0m\u001b[0;34m\u001b[0m\u001b[0;34m\u001b[0m\u001b[0;34m\u001b[0m\u001b[0m\n\u001b[0;32m--> 889\u001b[0;31m                 \u001b[0;32mraise\u001b[0m \u001b[0mKeyboardInterrupt\u001b[0m\u001b[0;34m\u001b[0m\u001b[0;34m\u001b[0m\u001b[0m\n\u001b[0m\u001b[1;32m    890\u001b[0m             \u001b[0;32melse\u001b[0m\u001b[0;34m:\u001b[0m\u001b[0;34m\u001b[0m\u001b[0;34m\u001b[0m\u001b[0m\n\u001b[1;32m    891\u001b[0m                 \u001b[0;32mbreak\u001b[0m\u001b[0;34m\u001b[0m\u001b[0;34m\u001b[0m\u001b[0m\n",
      "\u001b[0;31mKeyboardInterrupt\u001b[0m: "
     ]
    }
   ],
   "source": [
    "#CREAR UNA CONDICIÓN PARA QUE LA CONVERSAIÓN SE DETENGA O CONTINUE\n",
    "condicion=''\n",
    "\n",
    "\n",
    "# CONVERSASIÓN CON ASSISTANT WATSON\n",
    "def assistant_bot(pregunta_persona):\n",
    "    \n",
    "    message = assistant.message(\n",
    "        '5d54ad00-095a-4d6f-b630-5bb1bb72fea1',\n",
    "        session['session_id'],\n",
    "        input={\n",
    "            'message_type':'text',\n",
    "            'text':pregunta_persona\n",
    "        }\n",
    "    ).get_result()\n",
    "    #print(json.dumps(message, indent=2))\n",
    "    # RECORRO EL JSON RESULT Y OBTENGO EL CAMPO GENERIC QUE ES LA RESPUESTA \n",
    "    for key,value in message.items():\n",
    "        for salida in value[\"entities\"]:\n",
    "            salida\n",
    "            \n",
    "            \n",
    "        for entityProperty in value[\"generic\"]:\n",
    "            str(entityProperty)\n",
    "    \n",
    "    condicion  = str(salida) \n",
    "    res_salida = condicion.split(':',2)\n",
    "    respuesta = res_salida[1]\n",
    "    condicion = str(respuesta)\n",
    "    res_final = condicion.split(',',1)\n",
    "    condicion =str(res_final[0])\n",
    "    #print(condicion)\n",
    "    \n",
    "    #TEXTO\n",
    "    response=str(entityProperty)\n",
    "    res=response.split(':',2)\n",
    "    paso_valor=str(res[2])\n",
    "    return paso_valor\n",
    "\n",
    "#VUELVO A TRADUCIR\n",
    "def translate_again(texto):\n",
    "    \n",
    "    translation = language_translator.translate(\n",
    "        text = texto, model_id = 'es-en').get_result()\n",
    "    #print(json.dumps(translation, indent=2, ensure_ascii= False))\n",
    "    texto=translation['translations']\n",
    "    transformado=str(texto)\n",
    "    #print(transformado)\n",
    "    t=transformado.split(\" \", 1)\n",
    "    #print(t[1])\n",
    "    v=str(t[1]).split(\"}\",1)\n",
    "    texto=str(v)\n",
    "    text_speech_en(texto)      #SE PASA DE TEXTO A VOZ \n",
    "    return str(v[0])\n",
    "\n",
    "\n",
    "# FUNCIÓN DE TRADUCIR \n",
    "def translate(texto):\n",
    "    \n",
    "    translation = language_translator.translate(\n",
    "        text = texto, model_id = 'en-es').get_result()\n",
    "    #print(json.dumps(translation, indent=2, ensure_ascii= False))\n",
    "    texto=translation['translations']\n",
    "    transformado=str(texto)\n",
    "   # print(transformado)\n",
    "    t=transformado.split(\" \", 1)\n",
    "    #print(t[1])\n",
    "    v=str(t[1]).split(\"}\",1)\n",
    "    valor_pasar=str(v[0])\n",
    "    return valor_pasar\n",
    "\n",
    "#FUNCIÓN QUE DEVULVE EL TEXTO SIN TRADUCIR\n",
    "def no_translate(texto):\n",
    "    \n",
    "    return texto\n",
    "\n",
    "#PASAR DE TEXTO A VOZ\n",
    "def text_speech_en(texto):\n",
    "    file_path = join( 'resources/output.wav')\n",
    "    with open(file_path,'wb') as audio_file:\n",
    "        response = text_to_speech.synthesize(\n",
    "            texto, accept='audio/wav',\n",
    "            voice=\"en-US_AllisonVoice\").get_result()\n",
    "        audio_file.write(response.content)\n",
    "        \n",
    "        \n",
    "        \n",
    "def text_speech_es(texto):\n",
    "    file_path = join( 'resources/output.wav')\n",
    "    with open(file_path,'wb') as audio_file:\n",
    "        response = text_to_speech.synthesize(\n",
    "            texto, accept='audio/wav',\n",
    "            voice=\"es-LA_SofiaVoice\").get_result()\n",
    "        audio_file.write(response.content)\n",
    "        \n",
    "def play_audio():\n",
    "    pygame.mixer.init()\n",
    "    pygame.mixer.music.load(\"resources/output.wav\")\n",
    "    pygame.mixer.music.play()\n",
    "    pygame.event.wait()\n",
    "\n",
    "\n",
    "\n",
    "def main():\n",
    "    print('Escribe algo: ')\n",
    "    print('Write something: ')\n",
    "   # print(condicion+\" main\")\n",
    "    while str(condicion) != 'despedida':\n",
    "        texto=input()\n",
    "        language = language_translator.identify(\n",
    "            texto).get_result()\n",
    "        value_language=[]\n",
    "        for key,value in language.items():\n",
    "            for lenguage_iden in value:\n",
    "                values=lenguage_iden.values()\n",
    "                language_list=list(values)\n",
    "                value_language.append(language_list[0])\n",
    "        if value_language[0] == 'en':\n",
    "            #print(translate(texto))\n",
    "            pregunta_persona=translate(texto)\n",
    "            #print(assistant_bot(pregunta_persona))\n",
    "            try:\n",
    "                texto=assistant_bot(pregunta_persona)\n",
    "                print(translate_again(texto))\n",
    "            except:\n",
    "                #print(assistant_bot(pregunta_persona))\n",
    "                print('Quizá la pregunta no está bien formulada')\n",
    "            \n",
    "            #\n",
    "        elif value_language[0] == 'es':\n",
    "            #print(no_translate(texto))\n",
    "            pregunta_persona=no_translate(texto)\n",
    "            \n",
    "            try:\n",
    "                texto=assistant_bot(pregunta_persona)\n",
    "                print(texto)\n",
    "            except:\n",
    "                #print(assistant_bot(pregunta_persona))\n",
    "                print('Quizá la pregunta no está bien formulada')\n",
    "            text_speech_es(texto)\n",
    "#play_audio()\n",
    "main()"
   ]
  },
  {
   "cell_type": "markdown",
   "metadata": {},
   "source": [
    "## Recibo el texto y traduzco de español a inglés"
   ]
  },
  {
   "cell_type": "code",
   "execution_count": null,
   "metadata": {},
   "outputs": [],
   "source": []
  }
 ],
 "metadata": {
  "kernelspec": {
   "display_name": "Python 3",
   "language": "python",
   "name": "python3"
  },
  "language_info": {
   "codemirror_mode": {
    "name": "ipython",
    "version": 3
   },
   "file_extension": ".py",
   "mimetype": "text/x-python",
   "name": "python",
   "nbconvert_exporter": "python",
   "pygments_lexer": "ipython3",
   "version": "3.7.6"
  }
 },
 "nbformat": 4,
 "nbformat_minor": 4
}
