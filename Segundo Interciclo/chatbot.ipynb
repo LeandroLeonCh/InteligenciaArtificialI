{
 "cells": [
  {
   "cell_type": "code",
   "execution_count": 1,
   "metadata": {},
   "outputs": [
    {
     "name": "stdout",
     "output_type": "stream",
     "text": [
      "pygame 1.9.6\n",
      "Hello from the pygame community. https://www.pygame.org/contribute.html\n"
     ]
    }
   ],
   "source": [
    "import json\n",
    "from ibm_watson import LanguageTranslatorV3\n",
    "from ibm_watson import AssistantV2\n",
    "from ibm_watson import TextToSpeechV1\n",
    "from ibm_cloud_sdk_core.authenticators import IAMAuthenticator\n",
    "from ibm_watson.websocket import SynthesizeCallback\n",
    "from os.path import join, dirname\n",
    "import pygame"
   ]
  },
  {
   "cell_type": "markdown",
   "metadata": {},
   "source": [
    "# Autenticación y credenciales de los servicios en IBM Watson"
   ]
  },
  {
   "cell_type": "code",
   "execution_count": 2,
   "metadata": {},
   "outputs": [],
   "source": [
    "#ATENTICACIÓN TRANSLATE WATSON\n",
    "authenticator = IAMAuthenticator('ex7fG5d2ob2SpeqnBatbjrloOjiD3fruLReO-zipIRG8')\n",
    "language_translator = LanguageTranslatorV3(\n",
    "    version='2018-05-01',\n",
    "    authenticator=authenticator)\n",
    "language_translator.set_service_url('https://api.us-south.language-translator.watson.cloud.ibm.com/instances/3f020a13-ae1f-4d67-87f2-808add2359f5')\n",
    "\n",
    "#ATENTICACIÓN TEXT_TO_SPEECH WATSON\n",
    "authenticator = IAMAuthenticator('y6g3Klma5riCxg7RWDp2UUsT9HCW07iaT2qruSdOuTwg')\n",
    "text_to_speech = TextToSpeechV1( authenticator=authenticator)\n",
    "text_to_speech.set_service_url('https://api.us-south.text-to-speech.watson.cloud.ibm.com/instances/6ddfab7b-3699-484e-801b-b2cbcf8cab1c')\n",
    "\n",
    "\n",
    "#ATENTICACIÓN ASSISTANT WATSON\n",
    "authenticator = IAMAuthenticator('Vdhmwp71ttlef0bM0JCAVGM1-jqVEt-sQlHqrWFFo_HO')\n",
    "assistant = AssistantV2(\n",
    "    version = '2020-04-01',\n",
    "    authenticator = authenticator\n",
    ")\n",
    "assistant.set_service_url('https://api.us-south.assistant.watson.cloud.ibm.com/instances/d80a5eb7-c2a1-43d2-84c0-9891733fc13d')\n",
    "assistant.set_disable_ssl_verification(False)\n",
    "\n",
    "session = assistant.create_session('5d54ad00-095a-4d6f-b630-5bb1bb72fea1').get_result()\n",
    "\n",
    "voices = text_to_speech.list_voices().get_result()\n",
    "#print(json.dumps(voices, indent=2))"
   ]
  },
  {
   "cell_type": "code",
   "execution_count": null,
   "metadata": {},
   "outputs": [],
   "source": []
  },
  {
   "cell_type": "markdown",
   "metadata": {},
   "source": [
    "### Identifica el idioma, y traduce de ser el caso"
   ]
  },
  {
   "cell_type": "code",
   "execution_count": null,
   "metadata": {
    "scrolled": true
   },
   "outputs": [
    {
     "name": "stdout",
     "output_type": "stream",
     "text": [
      "Escribe algo: \n",
      "Write something: \n",
      "good morning\n",
      "\" 'Welcome to the U.P.S. Basic Education career'\n",
      "How much does the cycle cost?\n",
      "Quizá la pregunta no está bien formulada\n",
      "precio de un ciclo\n"
     ]
    },
    {
     "name": "stderr",
     "output_type": "stream",
     "text": [
      "ERROR:root:Invalid Session\n",
      "Traceback (most recent call last):\n",
      "  File \"D:\\Users\\leand\\anaconda3\\envs\\IA\\lib\\site-packages\\ibm_cloud_sdk_core\\base_service.py\", line 229, in send\n",
      "    response.status_code, error_message, http_response=response)\n",
      "ibm_cloud_sdk_core.api_exception.ApiException: Error: Invalid Session, Code: 404 , X-global-transaction-id: c56828b9c98513a628ef6f1e6de8d862\n"
     ]
    },
    {
     "name": "stdout",
     "output_type": "stream",
     "text": [
      "Quizá la pregunta no está bien formulada\n"
     ]
    }
   ],
   "source": [
    "#CREAR UNA CONDICIÓN PARA QUE LA CONVERSAIÓN SE DETENGA O CONTINUE\n",
    "condicion=''\n",
    "\n",
    "\n",
    "# CONVERSASIÓN CON ASSISTANT WATSON\n",
    "def assistant_bot(pregunta_persona):\n",
    "    \n",
    "    message = assistant.message(\n",
    "        '5d54ad00-095a-4d6f-b630-5bb1bb72fea1',\n",
    "        session['session_id'],\n",
    "        input={\n",
    "            'message_type':'text',\n",
    "            'text':pregunta_persona\n",
    "        }\n",
    "    ).get_result()\n",
    "    #print(json.dumps(message, indent=2))\n",
    "    # RECORRO EL JSON RESULT Y OBTENGO EL CAMPO GENERIC QUE ES LA RESPUESTA \n",
    "    for key,value in message.items():\n",
    "        for salida in value[\"entities\"]:\n",
    "            salida\n",
    "            \n",
    "            \n",
    "        for entityProperty in value[\"generic\"]:\n",
    "            str(entityProperty)\n",
    "    \n",
    "    condicion  = str(salida) \n",
    "    res_salida = condicion.split(':',2)\n",
    "    respuesta = res_salida[1]\n",
    "    condicion = str(respuesta)\n",
    "    res_final = condicion.split(',',1)\n",
    "    condicion =str(res_final[0])\n",
    "    #print(condicion)\n",
    "    \n",
    "    #TEXTO\n",
    "    response=str(entityProperty)\n",
    "    res=response.split(':',2)\n",
    "    paso_valor=str(res[2])\n",
    "    return paso_valor\n",
    "\n",
    "#VUELVO A TRADUCIR\n",
    "def translate_again(texto):\n",
    "    \n",
    "    translation = language_translator.translate(\n",
    "        text = texto, model_id = 'es-en').get_result()\n",
    "    #print(json.dumps(translation, indent=2, ensure_ascii= False))\n",
    "    texto=translation['translations']\n",
    "    transformado=str(texto)\n",
    "    #print(transformado)\n",
    "    t=transformado.split(\" \", 1)\n",
    "    #print(t[1])\n",
    "    v=str(t[1]).split(\"}\",1)\n",
    "    texto=str(v)\n",
    "    text_speech_en(texto)      #SE PASA DE TEXTO A VOZ \n",
    "    return str(v[0])\n",
    "\n",
    "\n",
    "# FUNCIÓN DE TRADUCIR \n",
    "def translate(texto):\n",
    "    \n",
    "    translation = language_translator.translate(\n",
    "        text = texto, model_id = 'en-es').get_result()\n",
    "    #print(json.dumps(translation, indent=2, ensure_ascii= False))\n",
    "    texto=translation['translations']\n",
    "    transformado=str(texto)\n",
    "   # print(transformado)\n",
    "    t=transformado.split(\" \", 1)\n",
    "    #print(t[1])\n",
    "    v=str(t[1]).split(\"}\",1)\n",
    "    valor_pasar=str(v[0])\n",
    "    return valor_pasar\n",
    "\n",
    "#FUNCIÓN QUE DEVULVE EL TEXTO SIN TRADUCIR\n",
    "def no_translate(texto):\n",
    "    \n",
    "    return texto\n",
    "\n",
    "#PASAR DE TEXTO A VOZ\n",
    "def text_speech_en(texto):\n",
    "    file_path = join( 'resources/output.wav')\n",
    "    with open(file_path,'wb') as audio_file:\n",
    "        response = text_to_speech.synthesize(\n",
    "            texto, accept='audio/wav',\n",
    "            voice=\"en-US_AllisonVoice\").get_result()\n",
    "        audio_file.write(response.content)\n",
    "        \n",
    "        \n",
    "        \n",
    "def text_speech_es(texto):\n",
    "    file_path = join( 'resources/output.wav')\n",
    "    with open(file_path,'wb') as audio_file:\n",
    "        response = text_to_speech.synthesize(\n",
    "            texto, accept='audio/wav',\n",
    "            voice=\"es-LA_SofiaVoice\").get_result()\n",
    "        audio_file.write(response.content)\n",
    "        \n",
    "def play_audio():\n",
    "    pygame.mixer.init()\n",
    "    pygame.mixer.music.load(\"resources/output.wav\")\n",
    "    pygame.mixer.music.play()\n",
    "    pygame.event.wait()\n",
    "\n",
    "\n",
    "\n",
    "def main():\n",
    "    print('Escribe algo: ')\n",
    "    print('Write something: ')\n",
    "   # print(condicion+\" main\")\n",
    "    while str(condicion) != 'despedida':\n",
    "        texto=input()\n",
    "        language = language_translator.identify(\n",
    "            texto).get_result()\n",
    "        value_language=[]\n",
    "        for key,value in language.items():\n",
    "            for lenguage_iden in value:\n",
    "                values=lenguage_iden.values()\n",
    "                language_list=list(values)\n",
    "                value_language.append(language_list[0])\n",
    "        if value_language[0] == 'en':\n",
    "            #print(translate(texto))\n",
    "            pregunta_persona=translate(texto)\n",
    "            #print(assistant_bot(pregunta_persona))\n",
    "            try:\n",
    "                texto=assistant_bot(pregunta_persona)\n",
    "                print(translate_again(texto))\n",
    "            except:\n",
    "                #print(assistant_bot(pregunta_persona))\n",
    "                print('Quizá la pregunta no está bien formulada')\n",
    "            \n",
    "            #\n",
    "        elif value_language[0] == 'es':\n",
    "            #print(no_translate(texto))\n",
    "            pregunta_persona=no_translate(texto)\n",
    "            \n",
    "            try:\n",
    "                texto=assistant_bot(pregunta_persona)\n",
    "                print(texto)\n",
    "            except:\n",
    "                #print(assistant_bot(pregunta_persona))\n",
    "                print('Quizá la pregunta no está bien formulada')\n",
    "            text_speech_es(texto)\n",
    "#play_audio()\n",
    "main()"
   ]
  },
  {
   "cell_type": "markdown",
   "metadata": {},
   "source": [
    "## Recibo el texto y traduzco de español a inglés"
   ]
  },
  {
   "cell_type": "code",
   "execution_count": null,
   "metadata": {},
   "outputs": [],
   "source": []
  }
 ],
 "metadata": {
  "kernelspec": {
   "display_name": "Python 3",
   "language": "python",
   "name": "python3"
  },
  "language_info": {
   "codemirror_mode": {
    "name": "ipython",
    "version": 3
   },
   "file_extension": ".py",
   "mimetype": "text/x-python",
   "name": "python",
   "nbconvert_exporter": "python",
   "pygments_lexer": "ipython3",
   "version": "3.7.7"
  }
 },
 "nbformat": 4,
 "nbformat_minor": 4
}
