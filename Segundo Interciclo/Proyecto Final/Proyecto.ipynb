{
 "cells": [
  {
   "cell_type": "code",
   "execution_count": 61,
   "metadata": {},
   "outputs": [],
   "source": [
    "import neo4j\n",
    "from neo4j import GraphDatabase\n",
    "from clips import Environment"
   ]
  },
  {
   "cell_type": "code",
   "execution_count": 26,
   "metadata": {},
   "outputs": [],
   "source": [
    "\n",
    "\n",
    "uri = \"bolt://localhost:7687\"\n",
    "user = \"neo4j\"\n",
    "password = \"neo4j\"\n",
    "# Connect to the neo4j database server\n",
    "\n",
    "graphDB_Driver  = GraphDatabase.driver(uri,auth=(user, password), encrypted = False )"
   ]
  },
  {
   "cell_type": "markdown",
   "metadata": {},
   "source": [
    "# INTEGRACION NEO4J\n",
    "\n",
    "### DELETE"
   ]
  },
  {
   "cell_type": "code",
   "execution_count": 34,
   "metadata": {},
   "outputs": [
    {
     "name": "stdout",
     "output_type": "stream",
     "text": [
      "<neo4j.work.result.Result object at 0x7fd01df86b10>\n"
     ]
    }
   ],
   "source": [
    "comand_delete = 'MATCH (n) OPTIONAL MATCH (n)-[r]-() DELETE n,r RETURN count(n) as numero'\n",
    "\n",
    "with graphDB_Driver.session() as graphDB_Session:\n",
    "    \n",
    "    result = graphDB_Session.run(comand_delete)\n",
    "    print (result)\n"
   ]
  },
  {
   "cell_type": "markdown",
   "metadata": {},
   "source": [
    "### CREATE NODOS DE LOS AUTOS Y SUS RELACIONES"
   ]
  },
  {
   "cell_type": "code",
   "execution_count": 35,
   "metadata": {},
   "outputs": [
    {
     "name": "stdout",
     "output_type": "stream",
     "text": [
      "None\n"
     ]
    }
   ],
   "source": [
    "\n",
    "\n",
    "cqlCreate = \"\"\"CREATE (ff:vehiculo{nombre:'ford fiesta', modelo:'sedan'}),\n",
    "    (ma:vehiculo{nombre:'mazda 3', modelo:'auto'}),\n",
    "    (mc:vehiculo{nombre:'mazda bt-50', modelo:'camioneta'}),\n",
    "    (gf:vehiculo{nombre:'grand vitara', modelo:'familiar'}),\n",
    "    (fc:vehiculo{nombre:'ford f150', modelo:'camioneta'}),\n",
    "    (ca:vehiculo{nombre:'chevrolet aveo', modelo:'auto'}),\n",
    "    (mf:vehiculo{nombre:'mercedes benz sprinnter', modelo:'furgoneta'}),\n",
    "    (cc:vehiculo{nombre:'chevrolet dimax', modelo:'camioneta'}),\n",
    "    (tf:vehiculo{nombre:'toyota for runner', modelo:'familiar'}),\n",
    "    (vs:vehiculo{nombre:'volks wagen gol', modelo:'sedan'}),\n",
    "\n",
    "\n",
    "    (v:distancia{desc:'viaje'}),\n",
    "    (c:distancia{desc:'ciudad'}),\n",
    "\n",
    "    (p2:precio{monot:75}),\n",
    "    (p3:precio{monot:90}),\n",
    "    (p4:precio{monot:100}),\n",
    "    (p5:precio{monot:120}),\n",
    "    (p6:precio{monot:150}),\n",
    "\n",
    "    (c1:capacidad{ocupantes:4}),\n",
    "    (c2:capacidad{ocupantes:6}),\n",
    "    (c3:capacidad{ocupantes:8}),\n",
    "    (c5:capacidad{ocupantes:15}),\n",
    "\n",
    "    (m:marca{sello:'mazda'}),\n",
    "    (m1:marca{sello:'chevrolet'}),\n",
    "    (m2:marca{sello:'ford'}),\n",
    "    (m3:marca{sello:'mercedes benz'}),\n",
    "    (m4:marca{sello:'volks wagen'}),\n",
    "    (m5:marca{sello:'toyota'}),\n",
    "    \n",
    "    (ff)-[:ASIENTOS]->(c1),\n",
    "    (ma)-[:ASIENTOS]->(c1),\n",
    "    (mc)-[:ASIENTOS]->(c1),\n",
    "    (gf)-[:ASIENTOS]->(c2),\n",
    "    (fc)-[:ASIENTOS]->(c2),\n",
    "    (ca)-[:ASIENTOS]->(c1),\n",
    "    (mf)-[:ASIENTOS]->(c5),\n",
    "    (cc)-[:ASIENTOS]->(c2),\n",
    "    (tf)-[:ASIENTOS]->(c3),\n",
    "    (vs)-[:ASIENTOS]->(c1),\n",
    "    \n",
    "    (ff)-[:CASA]->(m2),\n",
    "    (ma)-[:CASA]->(m),\n",
    "    (mc)-[:CASA]->(m),\n",
    "    (gf)-[:CASA]->(m1),\n",
    "    (fc)-[:CASA]->(m2),\n",
    "    (ca)-[:CASA]->(m1),\n",
    "    (mf)-[:CASA]->(m3),\n",
    "    (cc)-[:CASA]->(m1),\n",
    "    (tf)-[:CASA]->(m5),\n",
    "    (vs)-[:CASA]->(m4),\n",
    "\n",
    "    (ff)-[:COSTO]->(p3),\n",
    "    (ma)-[:COSTO]->(p2),\n",
    "    (mc)-[:COSTO]->(p4),\n",
    "    (gf)-[:COSTO]->(p3),\n",
    "    (fc)-[:COSTO]->(p5),\n",
    "    (ca)-[:COSTO]->(p1),\n",
    "    (mf)-[:COSTO]->(p6),\n",
    "    (cc)-[:COSTO]->(p4),\n",
    "    (tf)-[:COSTO]->(p6),\n",
    "    (vs)-[:COSTO]->(p1),\n",
    "\n",
    "    (ff)-[:CIRCULAR]->(c),\n",
    "    (ma)-[:CIRCULAR]->(c),\n",
    "    (gf)-[:CIRCULAR]->(v),\n",
    "    (gf)-[:CIRCULAR]->(c),\n",
    "    (fc)-[:CIRCULAR]->(v),\n",
    "    (fc)-[:CIRCULAR]->(c),\n",
    "    (ca)-[:CIRCULAR]->(c),\n",
    "    (mf)-[:CIRCULAR]->(v),\n",
    "    (cc)-[:CIRCULAR]->(v),\n",
    "    (cc)-[:CIRCULAR]->(c),\n",
    "    (tf)-[:CIRCULAR]->(v),\n",
    "    (tf)-[:CIRCULAR]->(c),\n",
    "    (vs)-[:CIRCULAR]->(c)\n",
    "    \"\"\"\n",
    "\n",
    "with graphDB_Driver.session() as graphDB_Session:\n",
    "    \n",
    "    # LISTA LOS NODOS CREADOS\n",
    "    nodes = graphDB_Session.run(cqlCreate)\n",
    "    \n",
    "    record = nodes.single()\n",
    "    print(record)"
   ]
  },
  {
   "cell_type": "markdown",
   "metadata": {},
   "source": [
    "### Entrenamiento de los datos para encontrar\n",
    "### similitud entre los vehiculos en funcion de\n",
    "### la CAPACIDAD de pasajeros"
   ]
  },
  {
   "cell_type": "code",
   "execution_count": 53,
   "metadata": {},
   "outputs": [
    {
     "name": "stdout",
     "output_type": "stream",
     "text": [
      "<Record nodes=10 similarityPairs=9 writeRelationshipType='SIMILAR' writeProperty='score' min=1.0 max=1.0 mean=1.0 p95=1.0>\n"
     ]
    }
   ],
   "source": [
    " \n",
    "def training_capacidad():\n",
    "    \n",
    "    cql_trient = \"\"\"MATCH (p:vehiculo)-[:ASIENTOS]->(capacidad)\n",
    "     WITH {item:id(p), categories: collect(id(capacidad))} AS userData\n",
    "     WITH collect(userData) AS data\n",
    "     CALL gds.alpha.ml.ann.write({\n",
    "      algorithm: 'jaccard',\n",
    "      data: data,\n",
    "      similarityCutoff: 0.1,\n",
    "      showComputations: true,\n",
    "      concurrency: 1\n",
    "     })\n",
    "     YIELD nodes, similarityPairs, writeRelationshipType, writeProperty, min, max, mean, p95\n",
    "     RETURN nodes, similarityPairs, writeRelationshipType, writeProperty, min, max, mean, p95 \"\"\"\n",
    "\n",
    "    with graphDB_Driver.session() as graphDB_Session:\n",
    "\n",
    "        # LISTA LOS NODOS CREADOS\n",
    "        nodes = graphDB_Session.run(cql_trient, capacidad=capacidad)\n",
    "\n",
    "        record = nodes.single()\n",
    "        print(record)   \n",
    "        \n",
    "\n",
    "    "
   ]
  },
  {
   "cell_type": "markdown",
   "metadata": {},
   "source": [
    "### Entrenamiento de los datos para encontrar\n",
    "### similitud entre los vehiculos en funcion ...\n",
    "### del COSTO de alquiler por dia"
   ]
  },
  {
   "cell_type": "code",
   "execution_count": 38,
   "metadata": {},
   "outputs": [
    {
     "name": "stdout",
     "output_type": "stream",
     "text": [
      "<Record nodes=10 similarityPairs=4 writeRelationshipType='SIMILAR' writeProperty='score' min=1.0 max=1.0 mean=1.0 p95=1.0>\n"
     ]
    }
   ],
   "source": [
    "def training_costo():\n",
    "    \n",
    "    cql_trient = \"\"\"MATCH (p:vehiculo)-[:COSTO]->(precio)\n",
    "     WITH {item:id(p), categories: collect(id(precio))} AS userData\n",
    "     WITH collect(userData) AS data\n",
    "     CALL gds.alpha.ml.ann.write({\n",
    "      algorithm: 'jaccard',\n",
    "      data: data,\n",
    "      similarityCutoff: 0.1,\n",
    "      showComputations: true,\n",
    "      concurrency: 1\n",
    "     })\n",
    "     YIELD nodes, similarityPairs, writeRelationshipType, writeProperty, min, max, mean, p95\n",
    "     RETURN nodes, similarityPairs, writeRelationshipType, writeProperty, min, max, mean, p95 \"\"\"\n",
    "\n",
    "    with graphDB_Driver.session() as graphDB_Session:\n",
    "\n",
    "        # LISTA LOS NODOS CREADOS\n",
    "        nodes = graphDB_Session.run(cql_trient, capacidad=capacidad)\n",
    "\n",
    "        record = nodes.single()\n",
    "        print(record)   \n",
    "        \n",
    "        \n",
    "   "
   ]
  },
  {
   "cell_type": "markdown",
   "metadata": {},
   "source": [
    "### Entrenamiento de los datos para encontrar\n",
    "### similitud entre los vehiculos en funcion ...\n",
    "### de la capacidad para VIAJAR  o USO"
   ]
  },
  {
   "cell_type": "code",
   "execution_count": 45,
   "metadata": {},
   "outputs": [
    {
     "name": "stdout",
     "output_type": "stream",
     "text": [
      "<Record nodes=9 similarityPairs=22 writeRelationshipType='SIMILAR' writeProperty='score' min=0.5 max=1.0000038146972656 mean=0.7045470151034269 p95=1.0000038146972656>\n"
     ]
    }
   ],
   "source": [
    "def training_distancia():\n",
    "    \n",
    "    cql_trient = \"\"\" MATCH (p:vehiculo)-[:CIRCULAR]->(distancia)\n",
    "     WITH {item:id(p), categories: collect(id(distancia))} AS userData\n",
    "     WITH collect(userData) AS data\n",
    "     CALL gds.alpha.ml.ann.write({\n",
    "      algorithm: 'jaccard',\n",
    "      data: data,\n",
    "      similarityCutoff: 0.1,\n",
    "      showComputations: true,\n",
    "      concurrency: 1\n",
    "     })\n",
    "     YIELD nodes, similarityPairs, writeRelationshipType, writeProperty, min, max, mean, p95\n",
    "     RETURN nodes, similarityPairs, writeRelationshipType, writeProperty, min, max, mean, p95 \"\"\"\n",
    "\n",
    "    with graphDB_Driver.session() as graphDB_Session:\n",
    "\n",
    "        # LISTA LOS NODOS CREADOS\n",
    "        nodes = graphDB_Session.run(cql_trient, capacidad=capacidad)\n",
    "\n",
    "        record = nodes.single()\n",
    "        print(record)   \n",
    "        \n",
    "        \n"
   ]
  },
  {
   "cell_type": "markdown",
   "metadata": {},
   "source": [
    "### CONSULTA DE LOS ENTRENAMIENTOS\n"
   ]
  },
  {
   "cell_type": "code",
   "execution_count": 60,
   "metadata": {},
   "outputs": [
    {
     "name": "stdout",
     "output_type": "stream",
     "text": [
      "<Record nodes=10 similarityPairs=4 writeRelationshipType='SIMILAR' writeProperty='score' min=1.0 max=1.0 mean=1.0 p95=1.0>\n",
      "<Record capacidad=150 Vehivulo='toyota for runner' Campos=5>\n",
      "<Record capacidad=90 Vehivulo='grand vitara' Campos=5>\n",
      "<Record capacidad=90 Vehivulo='ford fiesta' Campos=5>\n"
     ]
    }
   ],
   "source": [
    "def recomendar_costo():\n",
    "    \n",
    "    cql_select = \"\"\"MATCH (p:vehiculo {nombre: 'ford f150'})-[:SIMILAR]->(other),\n",
    "           (other)-[:COSTO]->(precio)\n",
    "         WHERE not((p)-[:COSTO]->(precio))\n",
    "         RETURN precio.monot AS Precio ,  other.nombre AS Vehivulo, count(*) AS Campos\n",
    "         ORDER BY capacidad DESC\"\"\"\n",
    "\n",
    "    with graphDB_Driver.session() as graphDB_Session:\n",
    "\n",
    "            # LISTA LOS NODOS CREADOS\n",
    "            nodes = graphDB_Session.run(cql_select)\n",
    "\n",
    "            for node in nodes:               \n",
    "                print(node)\n",
    "\n",
    "                \n",
    "def recomendar_dictancia():\n",
    "    \n",
    "    cql_select = \"\"\"MATCH (p:vehiculo {nombre: 'ford f150'})-[:SIMILAR]->(other),\n",
    "           (other)-[:CIRCULAR]->(distancia)\n",
    "         WHERE not((p)-[:CIRCULAR]->(distancia))\n",
    "         RETURN distancia.desc AS Uso,  other.nombre AS Vehivulo, count(*) AS Campos\n",
    "         ORDER BY capacidad DESC\"\"\"\n",
    "\n",
    "    with graphDB_Driver.session() as graphDB_Session:\n",
    "\n",
    "            # LISTA LOS NODOS CREADOS\n",
    "            nodes = graphDB_Session.run(cql_select)\n",
    "\n",
    "            for node in nodes:               \n",
    "                print(node)\n",
    "         \n",
    "        \n",
    "def recomendar_capacidad():\n",
    "    cql_select = \"\"\"MATCH (p:vehiculo {nombre: 'ford f150'})-[:SIMILAR]->(other),\n",
    "           (other)-[:ASIENTOS]->(capacidad)\n",
    "         WHERE not((p)-[:ASIENTOS]->(capacidad))\n",
    "         RETURN capacidad.ocupantes AS Pasajeros,  other.nombre AS Vehivulo, count(*) AS Campos\n",
    "         ORDER BY capacidad DESC\"\"\"\n",
    "\n",
    "    with graphDB_Driver.session() as graphDB_Session:\n",
    "\n",
    "            # LISTA LOS NODOS CREADOS\n",
    "            nodes = graphDB_Session.run(cql_select)\n",
    "\n",
    "            for node in nodes:               \n",
    "                print(node)\n",
    "    \n",
    "\n"
   ]
  },
  {
   "cell_type": "code",
   "execution_count": 68,
   "metadata": {},
   "outputs": [
    {
     "name": "stdout",
     "output_type": "stream",
     "text": [
      "(defrule MAIN::my-rule\n",
      "   (numero 1)\n",
      "   =>\n",
      "   (assert (saludo hola)))\n",
      "\n",
      "(initial-fact)\n",
      "(numero 1)\n",
      "(numero 3 4 5)\n"
     ]
    }
   ],
   "source": [
    "env=Environment()\n",
    "def iniciar():\n",
    "    print('Que auto deseas? ')\n",
    "    print('puedes buscarlo por sus carateristicas, o por tu presupuesto ')\n",
    "    print('Ejemplo: \"6 pasajeros\", \"que cueste 100$\", \"quiero ir de viaje\", etc')\n",
    "    auto=input()\n",
    "    \n",
    "    \n",
    "def clips():\n",
    "    \n",
    "    fact_string = \"(numero 1)\"\n",
    "    fact = env.assert_string(fact_string)\n",
    "    template = fact.template\n",
    "    \n",
    "    assert template.implied ==True\n",
    "    \n",
    "    new_fact = template.new_fact()\n",
    "    \n",
    "    new_fact.extend((3, 4, 5))\n",
    "    \n",
    "    new_fact.assertit()\n",
    "    \n",
    "    rule = \"\"\"(defrule my-rule\n",
    "        (numero 1)\n",
    "        =>\n",
    "        (assert(saludo hola)))\"\"\"\n",
    "    \n",
    "    env.build(rule)\n",
    "    \n",
    "    for rule in env.rules():\n",
    "        print(rule)\n",
    "    \n",
    "    for fact in env.facts():\n",
    "        print(fact)\n",
    "        \n",
    "clips()"
   ]
  },
  {
   "cell_type": "code",
   "execution_count": null,
   "metadata": {},
   "outputs": [],
   "source": []
  }
 ],
 "metadata": {
  "kernelspec": {
   "display_name": "Python 3",
   "language": "python",
   "name": "python3"
  },
  "language_info": {
   "codemirror_mode": {
    "name": "ipython",
    "version": 3
   },
   "file_extension": ".py",
   "mimetype": "text/x-python",
   "name": "python",
   "nbconvert_exporter": "python",
   "pygments_lexer": "ipython3",
   "version": "3.7.6"
  }
 },
 "nbformat": 4,
 "nbformat_minor": 4
}
