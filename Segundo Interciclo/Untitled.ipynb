{
 "cells": [
  {
   "cell_type": "code",
   "execution_count": 8,
   "metadata": {},
   "outputs": [
    {
     "name": "stdout",
     "output_type": "stream",
     "text": [
      "(defrule MAIN::my-rule\n",
      "   (my-fact first-slot)\n",
      "   =>\n",
      "   (printout t \"My Rule fired!\" crlf))\n",
      "\n",
      "hola\n",
      "None\n"
     ]
    }
   ],
   "source": [
    "from clips import Environment\n",
    "env = Environment()\n",
    "env.load('examen.clp')\n",
    "\n",
    "rule = \"\"\"(defrule my-rule\n",
    "    (my-fact first-slot)\n",
    "    =>\n",
    "    (printout t \"My Rule fired!\" crlf))\"\"\"\n",
    "env.build(rule)\n",
    "for rule in env.rules():\n",
    "    print(rule)\n",
    "\n",
    "hola=input()\n",
    "env.build(\"(defrule r1 ($hola) => (assert (mundo)))\") \n",
    "print (saludo)"
   ]
  },
  {
   "cell_type": "code",
   "execution_count": null,
   "metadata": {},
   "outputs": [],
   "source": []
  }
 ],
 "metadata": {
  "kernelspec": {
   "display_name": "Python 3",
   "language": "python",
   "name": "python3"
  },
  "language_info": {
   "codemirror_mode": {
    "name": "ipython",
    "version": 3
   },
   "file_extension": ".py",
   "mimetype": "text/x-python",
   "name": "python",
   "nbconvert_exporter": "python",
   "pygments_lexer": "ipython3",
   "version": "3.7.6"
  }
 },
 "nbformat": 4,
 "nbformat_minor": 4
}
